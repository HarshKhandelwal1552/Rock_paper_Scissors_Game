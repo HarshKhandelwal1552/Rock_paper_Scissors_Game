{
 "cells": [
  {
   "cell_type": "code",
   "execution_count": 1,
   "metadata": {},
   "outputs": [
    {
     "name": "stderr",
     "output_type": "stream",
     "text": [
      "Using TensorFlow backend.\n",
      "C:\\Users\\91946\\anaconda3\\envs\\gputest\\lib\\site-packages\\sklearn\\externals\\joblib\\__init__.py:15: FutureWarning: sklearn.externals.joblib is deprecated in 0.21 and will be removed in 0.23. Please import this functionality directly from joblib, which can be installed with: pip install joblib. If this warning is raised when loading pickled models, you may need to re-serialize those models with scikit-learn 0.21+.\n",
      "  warnings.warn(msg, category=FutureWarning)\n"
     ]
    }
   ],
   "source": [
    "# importing required liberaries\n",
    "import requests\n",
    "import numpy as np\n",
    "import cv2\n",
    "import matplotlib.pyplot as plt\n",
    "from keras.preprocessing.image import img_to_array, array_to_img\n",
    "from sklearn.externals import joblib\n",
    "from IPython.display import clear_output\n",
    "from collections import Counter\n",
    "import tensorflow as tf\n",
    "\n",
    "import efficientnet.tfkeras as efn\n",
    "from skimage.color import rgb2lab, lab2rgb\n",
    "from skimage.transform import resize\n",
    "from skimage.io import imsave\n",
    "import numpy as np\n",
    "import tensorflow as tf\n",
    "from sklearn.externals import joblib\n",
    "from skimage.color import rgb2gray\n",
    "# importing lberaries for model\n",
    "from tensorflow.keras.models import Sequential\n",
    "from tensorflow.keras.layers import Conv2D,Dense,MaxPooling2D,BatchNormalization,GlobalAveragePooling2D,Dropout,Flatten,GaussianNoise\n",
    "from tensorflow.keras.optimizers import Adam\n",
    "import seaborn as sns\n",
    "from sklearn.metrics import confusion_matrix\n",
    "import time"
   ]
  },
  {
   "cell_type": "markdown",
   "metadata": {},
   "source": [
    "# Creating My own costume Dataset"
   ]
  },
  {
   "cell_type": "code",
   "execution_count": 9,
   "metadata": {
    "scrolled": false
   },
   "outputs": [],
   "source": [
    "\n",
    "i=0\n",
    "# we use the ip webcam for using mobile camera for displaing on our pc \n",
    "while True:\n",
    "    \n",
    "    # getting the address for our mobile camera\n",
    "    \n",
    "    # here instead of 19x.xxx.xx.x:8080 you write your own ip given by ip webcam for your android\n",
    "    image = requests.get(\"http://19x.xxx.xx.x:8080/shot.jpg\") \n",
    "    \n",
    "    # conveerting into numpy array\n",
    "    video = np.array(bytearray(image.content),dtype = np.uint8)\n",
    "    \n",
    "    # decoding our numpy array\n",
    "    render = cv2.imdecode(video,-1)\n",
    "    #print(render.shape)\n",
    "    \n",
    "    # Reading an image in default mode \n",
    "   \n",
    "    # Window name in which image is displayed \n",
    "    window_name = 'Image'\n",
    "    # Start coordinate, here (5, 5) \n",
    "    # represents the top left corner of rectangle \n",
    "#     start_point_p1 = (0, 0) \n",
    "#     start_point_p2 = (render.shape[1]//2, 0)\n",
    "    \n",
    "    # Ending coordinate, here (220, 220) \n",
    "    # represents the bottom right corner of rectangle \n",
    "#     end_point_p1 = (render.shape[1]//2, render.shape[0]) \n",
    "     \n",
    "\n",
    "    \n",
    "    # ==========================================================================\n",
    "    \n",
    "    var_p1 = render[:,:,:]\n",
    "\n",
    "    var_p1 = cv2.cvtColor(var_p1, cv2.COLOR_BGR2RGB)\n",
    "    var_p1 = array_to_img(var_p1)\n",
    "    \n",
    "#     img_p1.append(var_p1)\n",
    "\n",
    "    var_p1.save('new_data/test2/'+str(i)+'.png')\n",
    "    \n",
    "    \n",
    "    cv2.imshow(window_name, render) \n",
    "\n",
    "    i = i+1\n",
    "    # setting our terminating commands\n",
    "    \n",
    "    if (cv2.waitKey(1)==ord('q')):\n",
    "        cv2.destroyAllWindows()\n",
    "        break\n",
    "    if(i==400):\n",
    "        cv2.destroyAllWindows()\n",
    "        break\n",
    "    \n",
    "    \n"
   ]
  }
 ],
 "metadata": {
  "kernelspec": {
   "display_name": "gputest",
   "language": "python",
   "name": "gputest"
  },
  "language_info": {
   "codemirror_mode": {
    "name": "ipython",
    "version": 3
   },
   "file_extension": ".py",
   "mimetype": "text/x-python",
   "name": "python",
   "nbconvert_exporter": "python",
   "pygments_lexer": "ipython3",
   "version": "3.7.7"
  }
 },
 "nbformat": 4,
 "nbformat_minor": 4
}
